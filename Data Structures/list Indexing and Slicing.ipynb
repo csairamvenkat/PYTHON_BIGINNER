{
 "cells": [
  {
   "cell_type": "code",
   "execution_count": null,
   "metadata": {},
   "outputs": [],
   "source": [
    "#forward indexing--starts from 0 to n-1\n",
    "my_list = [10, 20, 30, 40, 50]\n",
    "print(my_list[0])  # Output: 10 (1st element)\n",
    "print(my_list[2])  # Output: 30 (3rd element)\n"
   ]
  },
  {
   "cell_type": "code",
   "execution_count": null,
   "metadata": {},
   "outputs": [],
   "source": [
    "#back ward \n",
    "print(my_list[-1])  # Output: 50 (last element)\n",
    "print(my_list[-3])  # Output: 30 (3rd element from the end)\n"
   ]
  },
  {
   "cell_type": "code",
   "execution_count": null,
   "metadata": {},
   "outputs": [],
   "source": [
    "#slicing  backward starts from n-1 and forward starts from 0\n",
    "my_list = [10, 20, 30, 40, 50]\n",
    "print(my_list[1:4])   # Output: [20, 30, 40] (from index 1 to 3)\n",
    "print(my_list[:3])    # Output: [10, 20, 30] (from start to index 2)\n",
    "print(my_list[2:])    # Output: [30, 40, 50] (from index 2 to the end)\n",
    "print(my_list[::2])   # Output: [10, 30, 50] (every 2nd element)\n",
    "print(my_list[2::2])   # Output: [30, 50] (every 2nd element starting from 2)\n"
   ]
  },
  {
   "cell_type": "code",
   "execution_count": 6,
   "metadata": {},
   "outputs": [
    {
     "ename": "IndexError",
     "evalue": "list index out of range",
     "output_type": "error",
     "traceback": [
      "\u001b[1;31m---------------------------------------------------------------------------\u001b[0m",
      "\u001b[1;31mIndexError\u001b[0m                                Traceback (most recent call last)",
      "Cell \u001b[1;32mIn[6], line 1\u001b[0m\n\u001b[1;32m----> 1\u001b[0m \u001b[38;5;28mprint\u001b[39m(my_list[\u001b[38;5;241m10\u001b[39m])\n",
      "\u001b[1;31mIndexError\u001b[0m: list index out of range"
     ]
    }
   ],
   "source": [
    "print(my_list[10])  # IndexError: list index out of range\n"
   ]
  },
  {
   "cell_type": "code",
   "execution_count": 16,
   "metadata": {},
   "outputs": [
    {
     "name": "stdout",
     "output_type": "stream",
     "text": [
      "6\n"
     ]
    }
   ],
   "source": []
  }
 ],
 "metadata": {
  "kernelspec": {
   "display_name": "base",
   "language": "python",
   "name": "python3"
  },
  "language_info": {
   "codemirror_mode": {
    "name": "ipython",
    "version": 3
   },
   "file_extension": ".py",
   "mimetype": "text/x-python",
   "name": "python",
   "nbconvert_exporter": "python",
   "pygments_lexer": "ipython3",
   "version": "3.12.7"
  }
 },
 "nbformat": 4,
 "nbformat_minor": 2
}
