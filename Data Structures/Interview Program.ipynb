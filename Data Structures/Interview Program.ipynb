{
 "cells": [
  {
   "cell_type": "code",
   "execution_count": 7,
   "metadata": {},
   "outputs": [],
   "source": [
    "# Swap no using 3rd variable\n",
    "# swap using operator\n",
    "# swap using binary\n",
    "# swap using xor\n",
    "# a,b=b,a "
   ]
  },
  {
   "cell_type": "code",
   "execution_count": null,
   "metadata": {},
   "outputs": [],
   "source": [
    "#swap 2 numbers without 3rd variable\n",
    "a=5\n",
    "b=6\n",
    "a=a+b #11\n",
    "b=a-b # 11-6=5\n",
    "a=a-b #11-5=6"
   ]
  },
  {
   "cell_type": "code",
   "execution_count": 4,
   "metadata": {},
   "outputs": [
    {
     "name": "stdout",
     "output_type": "stream",
     "text": [
      "6\n",
      "5\n"
     ]
    }
   ],
   "source": [
    "a,b=5,6\n",
    "a,b=b,a #internally  memory swaps it\n",
    "print(a)\n",
    "print(b)"
   ]
  },
  {
   "cell_type": "code",
   "execution_count": 2,
   "metadata": {},
   "outputs": [
    {
     "name": "stdout",
     "output_type": "stream",
     "text": [
      "World Hello\n"
     ]
    }
   ],
   "source": [
    "#Swap s1 and S2 with 3rd variables\n",
    "s1=\"Hello\"\n",
    "s2=\"World\"\n",
    "s3=s2\n",
    "s2=s1\n",
    "s1=s3\n",
    "print(s1,s2)\n"
   ]
  },
  {
   "cell_type": "code",
   "execution_count": 8,
   "metadata": {},
   "outputs": [
    {
     "name": "stdout",
     "output_type": "stream",
     "text": [
      "World Hello\n"
     ]
    }
   ],
   "source": [
    "#Swap s1 and S2 with out 3rd variables\n",
    "s1=\"Hello\"\n",
    "s2=\"World\"\n",
    "# s1=s1+\":\"+s2\n",
    "# print(s1)\n",
    "# s2=s1.split(':')[0]\n",
    "# s1=s1.split(':')[1]\n",
    "# print(s1,s2)\n",
    "s1,s2=s2,s1\n",
    "print(s1,s2)\n"
   ]
  }
 ],
 "metadata": {
  "kernelspec": {
   "display_name": "base",
   "language": "python",
   "name": "python3"
  },
  "language_info": {
   "codemirror_mode": {
    "name": "ipython",
    "version": 3
   },
   "file_extension": ".py",
   "mimetype": "text/x-python",
   "name": "python",
   "nbconvert_exporter": "python",
   "pygments_lexer": "ipython3",
   "version": "3.12.7"
  }
 },
 "nbformat": 4,
 "nbformat_minor": 2
}
