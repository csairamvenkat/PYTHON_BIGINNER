{
 "cells": [
  {
   "cell_type": "code",
   "execution_count": 1,
   "id": "83b01d44-9404-4576-abe0-baa3e2ed3df3",
   "metadata": {},
   "outputs": [
    {
     "name": "stdout",
     "output_type": "stream",
     "text": [
      "[100]\n",
      "After copying l to l1, l1 is : [100]\n",
      "[100, 200, 100]\n",
      "[200, 100]\n"
     ]
    }
   ],
   "source": [
    "l=[]\n",
    "l.append(100)\n",
    "print(l)\n",
    "l1=l.copy()\n",
    "print(\"After copying l to l1, l1 is :\",l1)\n",
    "l1.append(200)\n",
    "l1.append(100)\n",
    "print(l1)\n",
    "l1.remove(100)\n",
    "print(l1)\n",
    "\n",
    "\n"
   ]
  },
  {
   "cell_type": "code",
   "execution_count": 2,
   "id": "4b59f130-21cf-433f-944e-84fe6858e752",
   "metadata": {},
   "outputs": [
    {
     "name": "stdout",
     "output_type": "stream",
     "text": [
      "1 to 10 (0 to 9 as per indexing) elements in l1 are  [1, 2, 3, 4, 5, 6, 7, 8, 9, 10]\n",
      "6 to 10 (5 to 9 as per indexing) elements in l1 are  [6, 7, 8, 9, 10]\n",
      "3 to 10 with step index 2 (index starts at 3rd pos and runs till 9 pos)  [4, 6, 8, 10]\n",
      "3 to 10 with step index 2 (index starts at 3rd pos and runs till 9 pos)  [4, 6, 8, 10]\n",
      "3 to 10 with step index 2 (index starts at 3rd pos and runs till 9 pos)  [4, 6, 8, 10]\n",
      "Backward indexing starting at index pos 3 and run till index  -6-1=-7 from last(considering 0 from last) [4, 5, 6, 7, 8, 9]\n",
      "Backward indexing and slicing starting at index pos 3 and run till index  -6-1=-7 from last(considering 0 from last) and considering every 2nd element inbetween given positions [4, 6, 8, 10, 12]\n",
      "[15, 14, 13, 12, 11, 10, 9, 8, 7, 6, 5, 4, 3, 2, 1]\n"
     ]
    }
   ],
   "source": [
    "l1=[1,2,3,4,5,6,7,8,9,10,11,12,13,14,15]\n",
    "print(\"1 to 10 (0 to 9 as per indexing) elements in l1 are \" ,l1[0:10])\n",
    "print(\"6 to 10 (5 to 9 as per indexing) elements in l1 are \" ,l1[5:10])\n",
    "print(\"3 to 10 with step index 2 (index starts at 3rd pos and runs till 9 pos) \" ,l1[3:10:2])\n",
    "print(\"3 to 10 with step index 2 (index starts at 3rd pos and runs till 9 pos) \" ,l1[3:10:2])\n",
    "print(\"3 to 10 with step index 2 (index starts at 3rd pos and runs till 9 pos) \" ,l1[3:10:2])\n",
    "print(\"Backward indexing starting at index pos 3 and run till index  -6-1=-7 from last(considering 0 from last)\" ,l1[3:-6])\n",
    "print(\"Backward indexing and slicing starting at index pos 3 and run till index  -6-1=-7 from last(considering 0 from last) and considering every 2nd element inbetween given positions\" ,l1[3:-2:2])\n",
    "l2=l1.reverse()\n",
    "print(l1)\n",
    "\n"
   ]
  },
  {
   "cell_type": "code",
   "execution_count": 12,
   "id": "93e12ea8",
   "metadata": {},
   "outputs": [
    {
     "name": "stdout",
     "output_type": "stream",
     "text": [
      "[6, 7, 8, 9, 10, 1, 2, 3, 4, 5]\n",
      "[1, 3, 4]\n",
      "[3, 4]\n"
     ]
    }
   ],
   "source": [
    "l1=[1,2,3,4,5]\n",
    "l2=[6,7,8,9,10]\n",
    "l3=l2+l1\n",
    "print(l3) # l2 list 1st and then l1 list\n",
    "l1.pop() #removes 5\n",
    "l1.pop(1) #removes 2\n",
    "print(l1)\n",
    "l1.pop(-3) #removes 1\n",
    "print(l1)\n",
    "\n"
   ]
  },
  {
   "cell_type": "code",
   "execution_count": 19,
   "id": "8a7a0a1a",
   "metadata": {},
   "outputs": [
    {
     "name": "stdout",
     "output_type": "stream",
     "text": [
      "[2, 3, 4, 5, 1, 2, 3]\n",
      "[2, 3, 4, 5, 1, 2, 3, 6, 7, 8, 9, 10]\n"
     ]
    }
   ],
   "source": [
    "l1=[1,2,3,4,5,1,2,3]\n",
    "l2=[6,7,8,9,10]\n",
    "l1.remove(1) # removes 1st occurence of 1\n",
    "print(l1)\n",
    "l1.extend(l2)\n",
    "print(l1) #adds l2  to last of list l1\n",
    "\n"
   ]
  },
  {
   "cell_type": "code",
   "execution_count": 21,
   "id": "bf6ef213",
   "metadata": {},
   "outputs": [
    {
     "name": "stdout",
     "output_type": "stream",
     "text": [
      "1\n",
      "2\n",
      "3\n",
      "4\n",
      "5\n",
      "6\n",
      "7\n",
      "8\n",
      "9\n",
      "10\n"
     ]
    }
   ],
   "source": [
    "l1=[1,2,3,4,5,6,7,8,9,10]\n",
    "for i in l1:\n",
    "    print(i) # prints all elements in list"
   ]
  },
  {
   "cell_type": "code",
   "execution_count": 33,
   "id": "16947b3a",
   "metadata": {},
   "outputs": [
    {
     "ename": "TypeError",
     "evalue": "'int' object is not callable",
     "output_type": "error",
     "traceback": [
      "\u001b[1;31m---------------------------------------------------------------------------\u001b[0m",
      "\u001b[1;31mTypeError\u001b[0m                                 Traceback (most recent call last)",
      "Cell \u001b[1;32mIn[33], line 2\u001b[0m\n\u001b[0;32m      1\u001b[0m l1\u001b[38;5;241m=\u001b[39m[\u001b[38;5;241m1\u001b[39m,\u001b[38;5;241m2\u001b[39m,\u001b[38;5;241m3\u001b[39m,\u001b[38;5;241m4\u001b[39m,\u001b[38;5;241m5\u001b[39m,\u001b[38;5;241m6\u001b[39m,\u001b[38;5;241m7\u001b[39m,\u001b[38;5;241m8\u001b[39m,\u001b[38;5;241m9\u001b[39m,\u001b[38;5;241m10\u001b[39m]\n\u001b[1;32m----> 2\u001b[0m \u001b[38;5;28;01mfor\u001b[39;00m i \u001b[38;5;129;01min\u001b[39;00m \u001b[38;5;28menumerate\u001b[39m(l1):\n\u001b[0;32m      3\u001b[0m     \u001b[38;5;28mprint\u001b[39m(i)\n",
      "\u001b[1;31mTypeError\u001b[0m: 'int' object is not callable"
     ]
    }
   ],
   "source": [
    "l1=[1,2,3,4,5,6,7,8,9,10]\n",
    "for i in enumerate(l1):\n",
    "    print(i)\n",
    "    \n",
    "    #output ccoing in jupyter online\n",
    "    # (0, 1)\n",
    "    # (1,2)\n",
    "    # (2, 3)\n",
    "    # (3, 4)\n",
    "    # (4, 5)\n",
    "    # (5, 6)\n",
    "    # (6, 7)\n",
    "    # (7, 8)\n",
    "    # (8, 9)\n",
    "    # (9, 10)\n",
    " "
   ]
  }
 ],
 "metadata": {
  "kernelspec": {
   "display_name": "base",
   "language": "python",
   "name": "python3"
  },
  "language_info": {
   "codemirror_mode": {
    "name": "ipython",
    "version": 3
   },
   "file_extension": ".py",
   "mimetype": "text/x-python",
   "name": "python",
   "nbconvert_exporter": "python",
   "pygments_lexer": "ipython3",
   "version": "3.12.7"
  }
 },
 "nbformat": 4,
 "nbformat_minor": 5
}
