{
 "cells": [
  {
   "cell_type": "markdown",
   "metadata": {},
   "source": [
    "# List can store diff data types\n",
    "# list is mutable /hashable which means it can be changed\n",
    "# append-- to add end of list\n",
    "# copy\n",
    "# remove--1st occurance\n",
    "# reverse\n",
    "#count(x) counts occurance of that element in list\n",
    "#Right index starts from n-1\n",
    "#left index starts from 0\n",
    "#advance slice prints in reverse order[::-1]\n",
    "#del--deletes list del is keyword\n",
    "#pop --removes last element in list \n",
    "#pop(x)--remove element in that index\n",
    "#pop(-x)--remove element in that pos from last since no slice it does not follow n-1 rule\n",
    "#insert(at what index,element to insert)\n",
    "#extend adds the list to end of list\n",
    "#+ can be used to add list to other at where ever we want\n",
    "#sort()--ascending available on strings aswell\n",
    "#sort(reverse=true)--descending available on strings aswell\n",
    "# sort not available for mix of int and string\n",
    "\n"
   ]
  },
  {
   "cell_type": "code",
   "execution_count": null,
   "metadata": {},
   "outputs": [],
   "source": [
    "l=[]\n",
    "print(len(l)) #length\n",
    "l.append(10)\n",
    "l.append(20)\n",
    "l.append(3.90)\n",
    "l.append(\"Sai\")\n",
    "l.append(10+9j)\n",
    "l.append(True)\n",
    "\n",
    "l1=[1,2,3]\n",
    "# print(l)\n",
    "# print(id(l))\n",
    "# print(id(l1))\n",
    "l2=l1.copy()\n",
    "print(l)\n",
    "l1.remove(1)\n",
    "print(l1)\n",
    "\n",
    "\n",
    "l=[1,2,3,4,5,6,7,8,9]\n",
    "l5=l.reverse()\n",
    "print(l)\n",
    "print(l5)\n",
    "\n",
    "print(l[0:2])  #forward slicing\n",
    "print(l[1:3])  #forward slicing\n",
    "print(l[1:-3])  #backward slicing\n",
    "print(l[1:8:2])  #step slicing\n",
    "l[:] # all elements\n"
   ]
  },
  {
   "cell_type": "code",
   "execution_count": 44,
   "metadata": {},
   "outputs": [
    {
     "name": "stdout",
     "output_type": "stream",
     "text": [
      "2\n",
      "[[1, 2, 3, 4]]\n",
      "[10, 20, 30, 40, 50]\n",
      "[10, 20, 30, 40, 50, 50]\n",
      "[[1, 2, 3, 4], 50, 30, 10]\n",
      "0\n",
      "7\n",
      "[1, 2, 3, 4, 5]\n",
      "2102770948032\n",
      "[]\n",
      "2102770948032\n",
      "[10, 20, 30, 40, 50, 50]\n"
     ]
    },
    {
     "data": {
      "text/plain": [
       "[100, 20, 35, 30, 40, 50, [1, 2, 3, 4]]"
      ]
     },
     "execution_count": 44,
     "metadata": {},
     "output_type": "execute_result"
    }
   ],
   "source": [
    "l=[10,20,30,40,50,50,[1,2,3,4]]\n",
    "print(l.count(50)) #ans is 2 # counts no. of times passed parms is in list\n",
    "print(l[6:])\n",
    "print(l[:5])\n",
    "print(l[:-1])\n",
    "print(l[::-2]) #advance slice prints in reverse order\n",
    "print(l.index(10))\n",
    "print(len(l))\n",
    "l2=[1,2,3,4,5]\n",
    "print(l2)\n",
    "print(id(l2))\n",
    "l2.clear()\n",
    "print(l2)\n",
    "print(id(l2))\n",
    "del l2\n",
    "#print(id(l2)) # error since we deleted l2\n",
    "l.pop()\n",
    "print(l)\n",
    "l=[10,20,30,40,50,50,[1,2,3,4]]\n",
    "l.pop(1)\n",
    "l=[10,20,30,40,50,50,[1,2,3,4]]\n",
    "l.pop(-3)\n",
    "l.insert(2,35)\n",
    "l\n",
    "l[0]=100\n",
    "l\n"
   ]
  },
  {
   "cell_type": "code",
   "execution_count": 51,
   "metadata": {},
   "outputs": [
    {
     "data": {
      "text/plain": [
       "[10, 20, 30, 40, 60, [1, 2, 3, 4]]"
      ]
     },
     "execution_count": 51,
     "metadata": {},
     "output_type": "execute_result"
    }
   ],
   "source": [
    "l=[10,20,30,40,50,60,[1,2,3,4]]\n",
    "l.pop(-3)\n",
    "l   "
   ]
  },
  {
   "cell_type": "code",
   "execution_count": 57,
   "metadata": {},
   "outputs": [
    {
     "name": "stdout",
     "output_type": "stream",
     "text": [
      "[1, 2, 3, 4, 5, 10, 20, 30, 40]\n",
      "[10, 20, 30, 40, 1, 2, 3, 4, 5]\n"
     ]
    },
    {
     "data": {
      "text/plain": [
       "[10, 20, 30, 40]"
      ]
     },
     "execution_count": 57,
     "metadata": {},
     "output_type": "execute_result"
    }
   ],
   "source": [
    "l1=[10,20,30,40]\n",
    "l2=[1,2,3,4,5]\n",
    "l3=l1+l2\n",
    "l2.extend(l1)\n",
    "print(l2)\n",
    "print(l3)\n",
    "l1"
   ]
  },
  {
   "cell_type": "code",
   "execution_count": 61,
   "metadata": {},
   "outputs": [
    {
     "name": "stdout",
     "output_type": "stream",
     "text": [
      "[1, 2, 3, 4, 5, 6]\n",
      "2\n",
      "6\n"
     ]
    }
   ],
   "source": [
    "l=[1,2,3,4,6]\n",
    "l.insert(4,5)\n",
    "print(l)\n",
    "print(l.pop(1)) #2\n",
    "print(l.pop(-1)) #6\n"
   ]
  },
  {
   "cell_type": "code",
   "execution_count": 5,
   "metadata": {},
   "outputs": [
    {
     "name": "stdout",
     "output_type": "stream",
     "text": [
      "[0, 1, 2, 3, 4, 6]\n",
      "[6, 4, 3, 2, 1, 0]\n"
     ]
    }
   ],
   "source": [
    "l=[1,2,3,4,6,0]\n",
    "l.sort() #ascending\n",
    "print(l)\n",
    "l.sort(reverse=True) #descending\n",
    "print(l)"
   ]
  },
  {
   "cell_type": "code",
   "execution_count": 8,
   "metadata": {},
   "outputs": [
    {
     "name": "stdout",
     "output_type": "stream",
     "text": [
      "['a', 'y', 'z']\n",
      "['z', 'y', 'a']\n",
      "['a', 'y', 'z']\n"
     ]
    }
   ],
   "source": [
    "l=['a','z','y']\n",
    "l.sort()\n",
    "print(l)\n",
    "l.sort(reverse=True)\n",
    "print(l)\n",
    "l.sort(reverse=False)\n",
    "print(l)"
   ]
  },
  {
   "cell_type": "code",
   "execution_count": 9,
   "metadata": {},
   "outputs": [
    {
     "ename": "TypeError",
     "evalue": "'<' not supported between instances of 'str' and 'int'",
     "output_type": "error",
     "traceback": [
      "\u001b[1;31m---------------------------------------------------------------------------\u001b[0m",
      "\u001b[1;31mTypeError\u001b[0m                                 Traceback (most recent call last)",
      "Cell \u001b[1;32mIn[9], line 2\u001b[0m\n\u001b[0;32m      1\u001b[0m l\u001b[38;5;241m=\u001b[39m[\u001b[38;5;241m1\u001b[39m,\u001b[38;5;241m2\u001b[39m,\u001b[38;5;124m'\u001b[39m\u001b[38;5;124ma\u001b[39m\u001b[38;5;124m'\u001b[39m,\u001b[38;5;241m5\u001b[39m\u001b[38;5;241m+\u001b[39m\u001b[38;5;241m6\u001b[39mj]\n\u001b[1;32m----> 2\u001b[0m l\u001b[38;5;241m.\u001b[39msort()\n",
      "\u001b[1;31mTypeError\u001b[0m: '<' not supported between instances of 'str' and 'int'"
     ]
    }
   ],
   "source": [
    "l=[1,2,'a',5+6j]\n",
    "l.sort() # sort not available for mix of int and string"
   ]
  },
  {
   "cell_type": "code",
   "execution_count": 14,
   "metadata": {},
   "outputs": [
    {
     "name": "stdout",
     "output_type": "stream",
     "text": [
      "5\n",
      "-1\n",
      "6\n",
      "5.2\n"
     ]
    }
   ],
   "source": [
    "# Magic methods int.__add__,int.__sub__,float.__int__ etc\n",
    "a=2\n",
    "b=3\n",
    "a+b\n",
    "print(int.__add__(2,3))\n",
    "print(int.__sub__(2,3))\n",
    "print(int.__mul__(2,3))\n",
    "print(float.__add__(2.1,3.1))"
   ]
  }
 ],
 "metadata": {
  "kernelspec": {
   "display_name": "base",
   "language": "python",
   "name": "python3"
  },
  "language_info": {
   "codemirror_mode": {
    "name": "ipython",
    "version": 3
   },
   "file_extension": ".py",
   "mimetype": "text/x-python",
   "name": "python",
   "nbconvert_exporter": "python",
   "pygments_lexer": "ipython3",
   "version": "3.12.7"
  }
 },
 "nbformat": 4,
 "nbformat_minor": 2
}
