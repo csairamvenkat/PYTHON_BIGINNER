{
 "cells": [
  {
   "cell_type": "code",
   "execution_count": null,
   "metadata": {},
   "outputs": [],
   "source": [
    "#number Systems in Python\n",
    "#Binary--base value 2 -->0 and 1 will come\n",
    "#Octal--base value 8--> 0 to 7 will come\n",
    "#Decimal--base value 10-->0 to 9 will come\n",
    "#Hexa Decimal--base value 16-->0 to 9 a=11.b=12,c=13,d=14,e=15,f=16 will come"
   ]
  },
  {
   "cell_type": "code",
   "execution_count": 13,
   "metadata": {},
   "outputs": [
    {
     "name": "stdout",
     "output_type": "stream",
     "text": [
      "0x64\n"
     ]
    }
   ],
   "source": [
    "decimal_number = 100\n",
    "hexadecimal_value = hex(decimal_number)\n",
    "print(hexadecimal_value) #0x64\n"
   ]
  },
  {
   "cell_type": "code",
   "execution_count": 11,
   "metadata": {},
   "outputs": [
    {
     "name": "stdout",
     "output_type": "stream",
     "text": [
      "0o36\n"
     ]
    }
   ],
   "source": [
    "decimal_number = 30\n",
    "oct_value = oct(decimal_number)\n",
    "print(oct_value)  # Output: '0o36'\n"
   ]
  },
  {
   "cell_type": "code",
   "execution_count": 9,
   "metadata": {},
   "outputs": [
    {
     "name": "stdout",
     "output_type": "stream",
     "text": [
      "0b11110\n"
     ]
    }
   ],
   "source": [
    "decimal_number = 30\n",
    "binary_value = bin(decimal_number)\n",
    "print(binary_value)  # Output: '0b11110'\n"
   ]
  }
 ],
 "metadata": {
  "kernelspec": {
   "display_name": "base",
   "language": "python",
   "name": "python3"
  },
  "language_info": {
   "codemirror_mode": {
    "name": "ipython",
    "version": 3
   },
   "file_extension": ".py",
   "mimetype": "text/x-python",
   "name": "python",
   "nbconvert_exporter": "python",
   "pygments_lexer": "ipython3",
   "version": "3.12.7"
  }
 },
 "nbformat": 4,
 "nbformat_minor": 2
}
