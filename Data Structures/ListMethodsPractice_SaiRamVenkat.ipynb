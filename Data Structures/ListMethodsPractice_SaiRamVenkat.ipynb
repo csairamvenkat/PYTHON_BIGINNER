{
 "cells": [
  {
   "cell_type": "code",
   "execution_count": 1,
   "id": "83b01d44-9404-4576-abe0-baa3e2ed3df3",
   "metadata": {},
   "outputs": [
    {
     "name": "stdout",
     "output_type": "stream",
     "text": [
      "[100]\n",
      "After copying l to l1, l1 is : [100]\n",
      "[100, 200, 100]\n",
      "[200, 100]\n"
     ]
    }
   ],
   "source": [
    "l=[]\n",
    "l.append(100)\n",
    "print(l)\n",
    "l1=l.copy()\n",
    "print(\"After copying l to l1, l1 is :\",l1)\n",
    "l1.append(200)\n",
    "l1.append(100)\n",
    "print(l1)\n",
    "l1.remove(100)\n",
    "print(l1)\n",
    "\n",
    "\n"
   ]
  },
  {
   "cell_type": "code",
   "execution_count": 2,
   "id": "4b59f130-21cf-433f-944e-84fe6858e752",
   "metadata": {},
   "outputs": [
    {
     "name": "stdout",
     "output_type": "stream",
     "text": [
      "1 to 10 (0 to 9 as per indexing) elements in l1 are  [1, 2, 3, 4, 5, 6, 7, 8, 9, 10]\n",
      "6 to 10 (5 to 9 as per indexing) elements in l1 are  [6, 7, 8, 9, 10]\n",
      "3 to 10 with step index 2 (index starts at 3rd pos and runs till 9 pos)  [4, 6, 8, 10]\n",
      "3 to 10 with step index 2 (index starts at 3rd pos and runs till 9 pos)  [4, 6, 8, 10]\n",
      "3 to 10 with step index 2 (index starts at 3rd pos and runs till 9 pos)  [4, 6, 8, 10]\n",
      "Backward indexing starting at index pos 3 and run till index  -6-1=-7 from last(considering 0 from last) [4, 5, 6, 7, 8, 9]\n",
      "Backward indexing and slicing starting at index pos 3 and run till index  -6-1=-7 from last(considering 0 from last) and considering every 2nd element inbetween given positions [4, 6, 8, 10, 12]\n",
      "[15, 14, 13, 12, 11, 10, 9, 8, 7, 6, 5, 4, 3, 2, 1]\n"
     ]
    }
   ],
   "source": [
    "l1=[1,2,3,4,5,6,7,8,9,10,11,12,13,14,15]\n",
    "print(\"1 to 10 (0 to 9 as per indexing) elements in l1 are \" ,l1[0:10])\n",
    "print(\"6 to 10 (5 to 9 as per indexing) elements in l1 are \" ,l1[5:10])\n",
    "print(\"3 to 10 with step index 2 (index starts at 3rd pos and runs till 9 pos) \" ,l1[3:10:2])\n",
    "print(\"3 to 10 with step index 2 (index starts at 3rd pos and runs till 9 pos) \" ,l1[3:10:2])\n",
    "print(\"3 to 10 with step index 2 (index starts at 3rd pos and runs till 9 pos) \" ,l1[3:10:2])\n",
    "print(\"Backward indexing starting at index pos 3 and run till index  -6-1=-7 from last(considering 0 from last)\" ,l1[3:-6])\n",
    "print(\"Backward indexing and slicing starting at index pos 3 and run till index  -6-1=-7 from last(considering 0 from last) and considering every 2nd element inbetween given positions\" ,l1[3:-2:2])\n",
    "l2=l1.reverse()\n",
    "print(l1)\n",
    "\n"
   ]
  }
 ],
 "metadata": {
  "kernelspec": {
   "display_name": "base",
   "language": "python",
   "name": "python3"
  },
  "language_info": {
   "codemirror_mode": {
    "name": "ipython",
    "version": 3
   },
   "file_extension": ".py",
   "mimetype": "text/x-python",
   "name": "python",
   "nbconvert_exporter": "python",
   "pygments_lexer": "ipython3",
   "version": "3.12.7"
  }
 },
 "nbformat": 4,
 "nbformat_minor": 5
}
