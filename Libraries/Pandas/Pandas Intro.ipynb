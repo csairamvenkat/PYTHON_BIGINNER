{
 "cells": [
  {
   "cell_type": "markdown",
   "metadata": {},
   "source": [
    "# Its used for Data Analysis and a Maniipulation Tool\n",
    "\n",
    "# Raw Data vs Clean Data\n",
    "Excel Sheet-- Data Set\n",
    "Column Name-- Attributes/Features\n",
    "\n",
    "# Raw Data is the data that is recived as is with missing values\n",
    "# Clean  Data is the data that with all required attributes\n",
    "\n",
    "# In Db we will have Raw data-- >Raw data will be converted/imputed to Clean data by Data Analyst-->This process is called Data Cleansing\n",
    "# To Convert Raw data to Clean Data Panda Library is used\n",
    "\n",
    "# Data Set can be made wityh numerical (numbers) or categorical data (text)"
   ]
  },
  {
   "cell_type": "code",
   "execution_count": null,
   "metadata": {
    "vscode": {
     "languageId": "plaintext"
    }
   },
   "outputs": [],
   "source": []
  }
 ],
 "metadata": {
  "language_info": {
   "name": "python"
  }
 },
 "nbformat": 4,
 "nbformat_minor": 2
}
