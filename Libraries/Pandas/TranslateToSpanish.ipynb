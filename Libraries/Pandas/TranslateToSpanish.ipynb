{
 "cells": [
  {
   "cell_type": "markdown",
   "metadata": {},
   "source": []
  },
  {
   "cell_type": "code",
   "execution_count": 30,
   "metadata": {},
   "outputs": [
    {
     "ename": "SyntaxError",
     "evalue": "invalid syntax (1348323794.py, line 1)",
     "output_type": "error",
     "traceback": [
      "\u001b[1;36m  Cell \u001b[1;32mIn[30], line 1\u001b[1;36m\u001b[0m\n\u001b[1;33m    pip install deep-translator\u001b[0m\n\u001b[1;37m        ^\u001b[0m\n\u001b[1;31mSyntaxError\u001b[0m\u001b[1;31m:\u001b[0m invalid syntax\n"
     ]
    }
   ],
   "source": [
    "pip install deep-translator\n",
    "\n",
    "\n"
   ]
  },
  {
   "cell_type": "code",
   "execution_count": 27,
   "metadata": {},
   "outputs": [
    {
     "name": "stdout",
     "output_type": "stream",
     "text": [
      "Collecting xlsxwriter\n",
      "  Downloading XlsxWriter-3.2.2-py3-none-any.whl.metadata (2.8 kB)\n",
      "Downloading XlsxWriter-3.2.2-py3-none-any.whl (165 kB)\n",
      "Installing collected packages: xlsxwriter\n",
      "Successfully installed xlsxwriter-3.2.2\n",
      "Note: you may need to restart the kernel to use updated packages.\n"
     ]
    }
   ],
   "source": [
    "pip install xlsxwriter"
   ]
  },
  {
   "cell_type": "code",
   "execution_count": 28,
   "metadata": {},
   "outputs": [
    {
     "name": "stdout",
     "output_type": "stream",
     "text": [
      "Requirement already satisfied: openpyxl in c:\\users\\sai.venkat\\appdata\\local\\anaconda3\\lib\\site-packages (3.1.5)\n",
      "Requirement already satisfied: et-xmlfile in c:\\users\\sai.venkat\\appdata\\local\\anaconda3\\lib\\site-packages (from openpyxl) (1.1.0)\n",
      "Note: you may need to restart the kernel to use updated packages.\n"
     ]
    }
   ],
   "source": [
    "pip install openpyxl\n"
   ]
  },
  {
   "cell_type": "code",
   "execution_count": 29,
   "metadata": {},
   "outputs": [
    {
     "name": "stdout",
     "output_type": "stream",
     "text": [
      "sheet_name :  Entities\n",
      "sheet_name :  Attributes\n",
      "sheet_name :  Relationships\n",
      "sheet_name :  RelationshipsNN\n",
      "sheet_name :  Global OptionSets\n",
      "sheet_name :  OptionSets\n",
      "sheet_name :  Booleans\n",
      "sheet_name :  Views\n",
      "sheet_name :  Charts\n",
      "sheet_name :  Forms\n",
      "sheet_name :  Forms Tabs\n",
      "sheet_name :  Forms Sections\n",
      "sheet_name :  Forms Fields\n",
      "sheet_name :  SiteMap Areas\n",
      "sheet_name :  SiteMap Groups\n",
      "sheet_name :  SiteMap SubAreas\n",
      "sheet_name :  Dashboards\n",
      "sheet_name :  Dashboards Tabs\n",
      "sheet_name :  Dashboards Sections\n",
      "sheet_name :  Dashboards Fields\n",
      "Translation completed successfully!\n"
     ]
    }
   ],
   "source": [
    "import pandas as pd\n",
    "from deep_translator import GoogleTranslator\n",
    "\n",
    "# Load the Excel file\n",
    "\n",
    "sheets_dict  = pd.read_excel(r\"C:\\Users\\sai.venkat\\OneDrive\\DataScience\\Python\\PYTHON_BIGINNER\\Libraries\\Pandas\\Caucedo_ManpowerRequest.xlsx\", sheet_name=None)\n",
    "\n",
    "# Define the column to translate\n",
    "column_name = 'English'\n",
    "output_file = \"updated_file.xlsx\"\n",
    "\n",
    "# Translate the column data\n",
    "translator = GoogleTranslator(source='auto', target='es')\n",
    "for sheet_name, df in sheets_dict.items():\n",
    " print(\"sheet_name : \",sheet_name)\n",
    " df['spanish'] = df[column_name].astype(str).apply(lambda x: translator.translate(x) if x.strip() else x)\n",
    " with pd.ExcelWriter(output_file, engine=\"xlsxwriter\") as writer:\n",
    "    for sheet_name, df in sheets_dict.items():\n",
    "        df.to_excel(writer, sheet_name=sheet_name, index=False)\n",
    "\n",
    "# Save the translated file\n",
    "# df.to_excel(\"translated_excel.xlsx\", index=False)\n",
    "\n",
    "print(\"Translation completed successfully!\")\n"
   ]
  },
  {
   "cell_type": "code",
   "execution_count": null,
   "metadata": {},
   "outputs": [],
   "source": []
  }
 ],
 "metadata": {
  "kernelspec": {
   "display_name": "base",
   "language": "python",
   "name": "python3"
  },
  "language_info": {
   "codemirror_mode": {
    "name": "ipython",
    "version": 3
   },
   "file_extension": ".py",
   "mimetype": "text/x-python",
   "name": "python",
   "nbconvert_exporter": "python",
   "pygments_lexer": "ipython3",
   "version": "3.12.7"
  }
 },
 "nbformat": 4,
 "nbformat_minor": 2
}
