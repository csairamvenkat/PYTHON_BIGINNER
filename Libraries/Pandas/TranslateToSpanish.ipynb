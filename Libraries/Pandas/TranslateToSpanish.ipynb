{
 "cells": [
  {
   "cell_type": "markdown",
   "metadata": {},
   "source": []
  },
  {
   "cell_type": "code",
   "execution_count": 2,
   "metadata": {},
   "outputs": [
    {
     "name": "stdout",
     "output_type": "stream",
     "text": [
      "Collecting deep-translator\n",
      "  Downloading deep_translator-1.11.4-py3-none-any.whl.metadata (30 kB)\n",
      "Requirement already satisfied: beautifulsoup4<5.0.0,>=4.9.1 in c:\\users\\sai.venkat\\appdata\\local\\anaconda3\\lib\\site-packages (from deep-translator) (4.12.3)\n",
      "Requirement already satisfied: requests<3.0.0,>=2.23.0 in c:\\users\\sai.venkat\\appdata\\local\\anaconda3\\lib\\site-packages (from deep-translator) (2.32.3)\n",
      "Requirement already satisfied: soupsieve>1.2 in c:\\users\\sai.venkat\\appdata\\local\\anaconda3\\lib\\site-packages (from beautifulsoup4<5.0.0,>=4.9.1->deep-translator) (2.5)\n",
      "Requirement already satisfied: charset-normalizer<4,>=2 in c:\\users\\sai.venkat\\appdata\\local\\anaconda3\\lib\\site-packages (from requests<3.0.0,>=2.23.0->deep-translator) (3.3.2)\n",
      "Requirement already satisfied: idna<4,>=2.5 in c:\\users\\sai.venkat\\appdata\\local\\anaconda3\\lib\\site-packages (from requests<3.0.0,>=2.23.0->deep-translator) (3.7)\n",
      "Requirement already satisfied: urllib3<3,>=1.21.1 in c:\\users\\sai.venkat\\appdata\\local\\anaconda3\\lib\\site-packages (from requests<3.0.0,>=2.23.0->deep-translator) (2.2.3)\n",
      "Requirement already satisfied: certifi>=2017.4.17 in c:\\users\\sai.venkat\\appdata\\local\\anaconda3\\lib\\site-packages (from requests<3.0.0,>=2.23.0->deep-translator) (2024.8.30)\n",
      "Downloading deep_translator-1.11.4-py3-none-any.whl (42 kB)\n",
      "Installing collected packages: deep-translator\n",
      "Successfully installed deep-translator-1.11.4\n",
      "Note: you may need to restart the kernel to use updated packages.\n"
     ]
    }
   ],
   "source": [
    "pip install deep-translator\n"
   ]
  },
  {
   "cell_type": "code",
   "execution_count": null,
   "metadata": {},
   "outputs": [
    {
     "name": "stdout",
     "output_type": "stream",
     "text": [
      "sheet_name :  Entities\n",
      "sheet_name :  Attributes\n",
      "sheet_name :  Relationships\n",
      "sheet_name :  RelationshipsNN\n",
      "sheet_name :  Global OptionSets\n",
      "sheet_name :  OptionSets\n",
      "sheet_name :  Booleans\n",
      "sheet_name :  Views\n",
      "sheet_name :  Charts\n",
      "sheet_name :  Forms\n",
      "sheet_name :  Forms Tabs\n",
      "sheet_name :  Forms Sections\n",
      "sheet_name :  Forms Fields\n",
      "sheet_name :  SiteMap Areas\n",
      "sheet_name :  SiteMap Groups\n",
      "sheet_name :  SiteMap SubAreas\n",
      "sheet_name :  Dashboards\n",
      "sheet_name :  Dashboards Tabs\n",
      "sheet_name :  Dashboards Sections\n",
      "sheet_name :  Dashboards Fields\n",
      "Translation completed successfully!\n"
     ]
    }
   ],
   "source": [
    "import pandas as pd\n",
    "from deep_translator import GoogleTranslator\n",
    "\n",
    "# Load the Excel file\n",
    "\n",
    "sheets_dict  = pd.read_excel(r\"C:\\Users\\sai.venkat\\OneDrive\\DataScience\\Python\\PYTHON_BIGINNER\\Libraries\\Pandas\\Caucedo_ManpowerRequest.xlsx\", sheet_name=None)\n",
    "\n",
    "# Define the column to translate\n",
    "column_name = 'English'\n",
    "output_file = \"updated_file.xlsx\"\n",
    "\n",
    "# Translate the column data\n",
    "translator = GoogleTranslator(source='auto', target='es')\n",
    "for sheet_name, df in sheets_dict.items():\n",
    " print(\"sheet_name : \",sheet_name)\n",
    " df['spanish'] = df[column_name].astype(str).apply(lambda x: translator.translate(x) if x.strip() else x)\n",
    " with pd.ExcelWriter(output_file, engine=\"xlsxwriter\") as writer:\n",
    "    for sheet_name, df in sheets_dict.items():\n",
    "        df.to_excel(writer, sheet_name=sheet_name, index=False)\n",
    "\n",
    "# Save the translated file\n",
    "# df.to_excel(\"translated_excel.xlsx\", index=False)\n",
    "\n",
    "print(\"Translation completed successfully!\")\n"
   ]
  },
  {
   "cell_type": "code",
   "execution_count": null,
   "metadata": {},
   "outputs": [],
   "source": []
  }
 ],
 "metadata": {
  "kernelspec": {
   "display_name": "base",
   "language": "python",
   "name": "python3"
  },
  "language_info": {
   "codemirror_mode": {
    "name": "ipython",
    "version": 3
   },
   "file_extension": ".py",
   "mimetype": "text/x-python",
   "name": "python",
   "nbconvert_exporter": "python",
   "pygments_lexer": "ipython3",
   "version": "3.12.7"
  }
 },
 "nbformat": 4,
 "nbformat_minor": 2
}
