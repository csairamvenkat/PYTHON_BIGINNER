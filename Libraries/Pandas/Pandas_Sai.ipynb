{
 "cells": [
  {
   "cell_type": "code",
   "execution_count": null,
   "metadata": {},
   "outputs": [],
   "source": [
    "import pandas as pd\n"
   ]
  },
  {
   "cell_type": "code",
   "execution_count": null,
   "metadata": {},
   "outputs": [],
   "source": [
    "store =pd.read_csv(r'C:\\Users\\sai.venkat\\OneDrive\\DataScience\\Python\\PYTHON_BIGINNER\\Libraries\\Pandas\\Sample - Superstore_Orders - Copy.csv')\n"
   ]
  },
  {
   "cell_type": "code",
   "execution_count": null,
   "metadata": {},
   "outputs": [],
   "source": [
    "store"
   ]
  },
  {
   "cell_type": "code",
   "execution_count": 12,
   "metadata": {},
   "outputs": [
    {
     "name": "stdout",
     "output_type": "stream",
     "text": [
      "<class 'pandas.core.frame.DataFrame'>\n",
      "RangeIndex: 10194 entries, 0 to 10193\n",
      "Data columns (total 19 columns):\n",
      " #   Column          Non-Null Count  Dtype  \n",
      "---  ------          --------------  -----  \n",
      " 0   Category        5 non-null      object \n",
      " 1   City            5 non-null      object \n",
      " 2   Country/Region  4 non-null      object \n",
      " 3   Customer Name   5 non-null      object \n",
      " 4   Manufacturer    4 non-null      object \n",
      " 5   Order Date      5 non-null      object \n",
      " 6   Order ID        5 non-null      object \n",
      " 7   Postal Code     5 non-null      float64\n",
      " 8   Product Name    5 non-null      object \n",
      " 9   Region          5 non-null      object \n",
      " 10  Segment         5 non-null      object \n",
      " 11  Ship Date       5 non-null      object \n",
      " 12  Ship Mode       5 non-null      object \n",
      " 13  State/Province  4 non-null      object \n",
      " 14  Sub-Category    5 non-null      object \n",
      " 15  Discount        5 non-null      float64\n",
      " 16  Profit          5 non-null      float64\n",
      " 17  Quantity        5 non-null      float64\n",
      " 18  Sales           4 non-null      float64\n",
      "dtypes: float64(5), object(14)\n",
      "memory usage: 1.5+ MB\n"
     ]
    }
   ],
   "source": [
    "store.info()"
   ]
  },
  {
   "cell_type": "code",
   "execution_count": 13,
   "metadata": {},
   "outputs": [
    {
     "data": {
      "text/plain": [
       "Category           object\n",
       "City               object\n",
       "Country/Region     object\n",
       "Customer Name      object\n",
       "Manufacturer       object\n",
       "Order Date         object\n",
       "Order ID           object\n",
       "Postal Code       float64\n",
       "Product Name       object\n",
       "Region             object\n",
       "Segment            object\n",
       "Ship Date          object\n",
       "Ship Mode          object\n",
       "State/Province     object\n",
       "Sub-Category       object\n",
       "Discount          float64\n",
       "Profit            float64\n",
       "Quantity          float64\n",
       "Sales             float64\n",
       "dtype: object"
      ]
     },
     "execution_count": 13,
     "metadata": {},
     "output_type": "execute_result"
    }
   ],
   "source": [
    "store.dtypes"
   ]
  },
  {
   "cell_type": "code",
   "execution_count": 16,
   "metadata": {},
   "outputs": [
    {
     "data": {
      "text/plain": [
       "0        Office Supplies\n",
       "1        Office Supplies\n",
       "2        Office Supplies\n",
       "3        Office Supplies\n",
       "4        Office Supplies\n",
       "              ...       \n",
       "10189                NaN\n",
       "10190                NaN\n",
       "10191                NaN\n",
       "10192                NaN\n",
       "10193                NaN\n",
       "Name: Category, Length: 10194, dtype: object"
      ]
     },
     "execution_count": 16,
     "metadata": {},
     "output_type": "execute_result"
    }
   ],
   "source": [
    "store['Category']"
   ]
  },
  {
   "cell_type": "code",
   "execution_count": 17,
   "metadata": {},
   "outputs": [
    {
     "data": {
      "text/plain": [
       "0        Office Supplies\n",
       "1        Office Supplies\n",
       "2        Office Supplies\n",
       "3        Office Supplies\n",
       "4        Office Supplies\n",
       "              ...       \n",
       "10189                NaN\n",
       "10190                NaN\n",
       "10191                NaN\n",
       "10192                NaN\n",
       "10193                NaN\n",
       "Name: Category, Length: 10194, dtype: object"
      ]
     },
     "execution_count": 17,
     "metadata": {},
     "output_type": "execute_result"
    }
   ],
   "source": [
    "store.Category"
   ]
  },
  {
   "cell_type": "code",
   "execution_count": null,
   "metadata": {},
   "outputs": [],
   "source": []
  },
  {
   "cell_type": "code",
   "execution_count": null,
   "metadata": {},
   "outputs": [],
   "source": []
  },
  {
   "cell_type": "code",
   "execution_count": null,
   "metadata": {},
   "outputs": [],
   "source": []
  },
  {
   "cell_type": "code",
   "execution_count": null,
   "metadata": {},
   "outputs": [],
   "source": []
  },
  {
   "cell_type": "code",
   "execution_count": null,
   "metadata": {},
   "outputs": [],
   "source": []
  },
  {
   "cell_type": "code",
   "execution_count": null,
   "metadata": {},
   "outputs": [],
   "source": []
  },
  {
   "cell_type": "code",
   "execution_count": null,
   "metadata": {},
   "outputs": [],
   "source": []
  },
  {
   "cell_type": "code",
   "execution_count": null,
   "metadata": {},
   "outputs": [],
   "source": []
  },
  {
   "cell_type": "code",
   "execution_count": null,
   "metadata": {},
   "outputs": [],
   "source": []
  },
  {
   "cell_type": "code",
   "execution_count": null,
   "metadata": {},
   "outputs": [],
   "source": []
  },
  {
   "cell_type": "code",
   "execution_count": null,
   "metadata": {},
   "outputs": [],
   "source": []
  },
  {
   "cell_type": "code",
   "execution_count": null,
   "metadata": {},
   "outputs": [],
   "source": []
  },
  {
   "cell_type": "code",
   "execution_count": null,
   "metadata": {},
   "outputs": [],
   "source": []
  },
  {
   "cell_type": "code",
   "execution_count": null,
   "metadata": {},
   "outputs": [],
   "source": []
  },
  {
   "cell_type": "code",
   "execution_count": null,
   "metadata": {},
   "outputs": [],
   "source": []
  },
  {
   "cell_type": "code",
   "execution_count": null,
   "metadata": {},
   "outputs": [],
   "source": []
  },
  {
   "cell_type": "code",
   "execution_count": null,
   "metadata": {},
   "outputs": [],
   "source": []
  },
  {
   "cell_type": "code",
   "execution_count": null,
   "metadata": {},
   "outputs": [],
   "source": []
  },
  {
   "cell_type": "code",
   "execution_count": null,
   "metadata": {},
   "outputs": [],
   "source": []
  },
  {
   "cell_type": "code",
   "execution_count": null,
   "metadata": {},
   "outputs": [],
   "source": []
  },
  {
   "cell_type": "code",
   "execution_count": null,
   "metadata": {},
   "outputs": [],
   "source": []
  },
  {
   "cell_type": "code",
   "execution_count": null,
   "metadata": {},
   "outputs": [],
   "source": []
  },
  {
   "cell_type": "code",
   "execution_count": null,
   "metadata": {},
   "outputs": [],
   "source": []
  },
  {
   "cell_type": "code",
   "execution_count": null,
   "metadata": {},
   "outputs": [],
   "source": []
  }
 ],
 "metadata": {
  "kernelspec": {
   "display_name": "base",
   "language": "python",
   "name": "python3"
  },
  "language_info": {
   "codemirror_mode": {
    "name": "ipython",
    "version": 3
   },
   "file_extension": ".py",
   "mimetype": "text/x-python",
   "name": "python",
   "nbconvert_exporter": "python",
   "pygments_lexer": "ipython3",
   "version": "3.12.7"
  }
 },
 "nbformat": 4,
 "nbformat_minor": 2
}
