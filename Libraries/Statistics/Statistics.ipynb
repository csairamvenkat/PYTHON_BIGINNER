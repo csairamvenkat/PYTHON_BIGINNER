{
 "cells": [
  {
   "cell_type": "markdown",
   "metadata": {},
   "source": [
    "# Population vs Sample\n",
    "# Type of Data\n",
    "# Descriptive Stats\n",
    "# Inferential Stats\n",
    "# Advanced Stats"
   ]
  },
  {
   "cell_type": "markdown",
   "metadata": {},
   "source": [
    "# Population vs sample\n",
    "\n",
    "Large data is called population.Randomply pick part  of it is sample\n",
    "Population to Sample is called--> Sampling technique\n",
    "Sample to Population is called--> Inference technique\n",
    "\n",
    "Max (99%) we use sample formulas\n",
    "ML (machine learning) is built on sample data\n",
    "\n",
    "Population we call as  Z-Test-- Parmeters\n",
    "Sample  is called -T-Test-- statistics\n",
    "\n",
    "Random sampling\n",
    "Sampling vs Random Sampling\n",
    "\n"
   ]
  },
  {
   "cell_type": "markdown",
   "metadata": {},
   "source": [
    "# Type of Data  \n",
    "Categorical\n",
    "Numerical--> descrete, continious\n",
    "\n",
    "\n",
    "What ML algo is used -->\n",
    "Regression -->dependent variable (dv) is continous (DV : increase or decrease)\n",
    "classification-->dv is categorical/binary (Win/loss, true/false,pass/fail etc)\n",
    "clustering-->no dv ,data is descrete  --> Value stops at some point(Exam max score, no.of children a couple have etc)\n",
    "\n",
    "\n",
    "# Levels of Measurement :\n",
    "Qualitative -->Nominal (No specific order) and ordinal (have some order --(Like rating of meal (1 to 5 as rating)))\n",
    "Quantitative--Interval (specific range (Like cost of meal)) and ratio (Area of a field (0-10 acres) )\n",
    "              Interval doesnot have 0 and Ratio may have 0\n"
   ]
  },
  {
   "cell_type": "markdown",
   "metadata": {},
   "source": []
  },
  {
   "cell_type": "markdown",
   "metadata": {},
   "source": [
    "# Descriptive Stats\n",
    "  # Measure's central Tendency-->Mean, median and  mode\n",
    "   Mean -->Avg -->(x1+x2+x3...xn)/n\n",
    "   Median-->(n+1)/2\n",
    "   Mode-->Most occurence value\n",
    "\n",
    "Outlier impacts which strategy??-->Mean gets impacted but doesnot impact median and mode\n",
    "\n",
    "   # Measure's of Assymentry -->Skewness  (+ve,-ve and 0 skew) and kurtois (leptocurtic,platykurtic,mesokurtic)\n",
    "\n",
    "\n",
    "\n",
    "Measure's of Variability-->Variance , Standard Deviation  , coefficient of variation\n",
    "Measure's of Relationship-->Covariance"
   ]
  },
  {
   "cell_type": "code",
   "execution_count": null,
   "metadata": {
    "vscode": {
     "languageId": "plaintext"
    }
   },
   "outputs": [],
   "source": []
  },
  {
   "cell_type": "markdown",
   "metadata": {},
   "source": []
  },
  {
   "cell_type": "markdown",
   "metadata": {},
   "source": []
  },
  {
   "cell_type": "markdown",
   "metadata": {},
   "source": []
  }
 ],
 "metadata": {
  "language_info": {
   "name": "python"
  }
 },
 "nbformat": 4,
 "nbformat_minor": 2
}
