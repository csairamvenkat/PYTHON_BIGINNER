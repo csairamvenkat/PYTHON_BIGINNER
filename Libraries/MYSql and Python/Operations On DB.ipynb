{
 "cells": [
  {
   "cell_type": "code",
   "execution_count": 1,
   "metadata": {},
   "outputs": [
    {
     "name": "stdout",
     "output_type": "stream",
     "text": [
      "Collecting mysql-connector-python\n",
      "  Downloading mysql_connector_python-9.2.0-cp312-cp312-win_amd64.whl.metadata (6.2 kB)\n",
      "Downloading mysql_connector_python-9.2.0-cp312-cp312-win_amd64.whl (16.1 MB)\n",
      "   ---------------------------------------- 0.0/16.1 MB ? eta -:--:--\n",
      "   ------- -------------------------------- 2.9/16.1 MB 18.6 MB/s eta 0:00:01\n",
      "   -------------------- ------------------- 8.4/16.1 MB 22.6 MB/s eta 0:00:01\n",
      "   ---------------------------------- ----- 13.9/16.1 MB 23.6 MB/s eta 0:00:01\n",
      "   ---------------------------------------  16.0/16.1 MB 24.0 MB/s eta 0:00:01\n",
      "   ---------------------------------------  16.0/16.1 MB 24.0 MB/s eta 0:00:01\n",
      "   ---------------------------------------- 16.1/16.1 MB 15.1 MB/s eta 0:00:00\n",
      "Installing collected packages: mysql-connector-python\n",
      "Successfully installed mysql-connector-python-9.2.0\n",
      "Note: you may need to restart the kernel to use updated packages.\n"
     ]
    }
   ],
   "source": [
    "pip install mysql-connector-python\n"
   ]
  },
  {
   "cell_type": "code",
   "execution_count": 1,
   "metadata": {},
   "outputs": [
    {
     "name": "stdout",
     "output_type": "stream",
     "text": [
      "Connected to database: ('nit',)\n"
     ]
    }
   ],
   "source": [
    "import mysql.connector\n",
    "\n",
    "# Establish a connection\n",
    "conn = mysql.connector.connect(\n",
    "    host=\"localhost\",      # e.g., \"localhost\" or \"127.0.0.1\"\n",
    "    user=\"root\",\n",
    "    password=\"1234\",\n",
    "    database=\"nit\"  # Optional, specify a database\n",
    ")\n",
    "\n",
    "# Create a cursor object\n",
    "cursor = conn.cursor()\n",
    "\n",
    "# Execute a simple query\n",
    "cursor.execute(\"SELECT DATABASE();\")\n",
    "db_name = cursor.fetchone()\n",
    "print(\"Connected to database:\", db_name)\n",
    "\n",
    "# Close the connection\n",
    "cursor.close()\n",
    "conn.close()\n"
   ]
  },
  {
   "cell_type": "code",
   "execution_count": 12,
   "metadata": {},
   "outputs": [
    {
     "name": "stdout",
     "output_type": "stream",
     "text": [
      "Connected to MySQL\n",
      "('SairamVenkat', 1, 'Hyderabad', 85)\n",
      "('Subrahmanaya', 2, 'Chennai', 85)\n",
      "('Ravi', 3, 'Hyderabad', 85)\n",
      "('Krishna', 4, 'Hyderabad', 85)\n",
      "('Satya', 5, 'Hyderabad', 85)\n",
      "('Lakshmi Narasimha', 6, 'Hyderabad', 85)\n",
      "('Hanumath', 7, 'Hyderabad', 85)\n",
      "('Koti', 8, 'Hyderabad', 85)\n",
      "('Triyumabakeshwara', 9, 'Hyderabad', 85)\n",
      "('Sharma', 10, 'Hyderabad', 85)\n"
     ]
    }
   ],
   "source": [
    "import mysql.connector\n",
    "from mysql.connector import Error\n",
    "\n",
    "try:\n",
    "    conn = mysql.connector.connect(\n",
    "    host=\"localhost\",      # e.g., \"localhost\" or \"127.0.0.1\"\n",
    "    user=\"root\",\n",
    "    password=\"1234\",\n",
    "    database=\"nit\"  # Optional, specify a database\n",
    ")\n",
    "\n",
    "    if conn.is_connected():\n",
    "        print(\"Connected to MySQL\")\n",
    "    \n",
    "except Error as e:\n",
    "    print(\"Error:\", e)\n",
    "\n",
    "finally:\n",
    "    if conn.is_connected():\n",
    "        cursor = conn.cursor()\n",
    "        cursor.execute(\"SELECT * FROM student\")\n",
    "        rows = cursor.fetchall()\n",
    "        for row in rows:\n",
    "          print(row)\n",
    "        # conn.close()\n",
    "    # print(\"MySQL connection closed\")\n"
   ]
  },
  {
   "cell_type": "code",
   "execution_count": null,
   "metadata": {},
   "outputs": [],
   "source": [
    "# Update Tbale\n",
    "\n",
    "values = [\n",
    "    (\"Banglore\", \"SaiRamVenkat\"),\n",
    "    (\"Nashik\", \"Triyumabakeshwara\")\n",
    "]\n",
    "cursor.executemany(\"UPDATE student SET address = %s WHERE name = %s\", values)\n",
    "conn.commit()\n"
   ]
  },
  {
   "cell_type": "code",
   "execution_count": 18,
   "metadata": {},
   "outputs": [],
   "source": [
    "# Insert Into Table \n",
    "values = [\n",
    "    (\"Swarnalatha\",11, \"Machilipatnam\",100),\n",
    "    # (\"ParthaSarathi\",12, \"Guntur\",100)\n",
    "]\n",
    "cursor.executemany(\"INSERT INTO student (name, id,address,marks) VALUES (%s, %s, %s,%s)\", values)\n",
    "conn.commit()"
   ]
  },
  {
   "cell_type": "code",
   "execution_count": 19,
   "metadata": {},
   "outputs": [],
   "source": [
    "# Delete  from  Table \n",
    "delete_query = \"DELETE FROM student WHERE id = %s\"\n",
    "values = [(13)]\n",
    "cursor.execute(delete_query, values)\n",
    "conn.commit()  # Commit the transaction\n"
   ]
  },
  {
   "cell_type": "code",
   "execution_count": null,
   "metadata": {},
   "outputs": [],
   "source": [
    "# # Truncate table\n",
    "# cursor.execute(\"TRUNCATE TABLE your_table\")\n",
    "# conn.commit()\n",
    "\n",
    "# print(\"Table truncated successfully.\")\n"
   ]
  },
  {
   "cell_type": "code",
   "execution_count": null,
   "metadata": {},
   "outputs": [],
   "source": [
    "# Inner Join\n",
    "join='''SELECT employees.name, departments.dept_name\n",
    "FROM employees\n",
    "INNER JOIN departments ON employees.dept_id = departments.dept_id'''\n"
   ]
  },
  {
   "cell_type": "code",
   "execution_count": null,
   "metadata": {},
   "outputs": [],
   "source": [
    "# left join\n",
    "join =''' \n",
    "SELECT employees.name, departments.dept_name\n",
    "FROM employees\n",
    "LEFT JOIN departments ON employees.dept_id = departments.dept_id;\n",
    "'''"
   ]
  },
  {
   "cell_type": "code",
   "execution_count": null,
   "metadata": {},
   "outputs": [],
   "source": [
    "# Right Join\n",
    "join='''\n",
    "SELECT employees.name, departments.dept_name\n",
    "FROM employees\n",
    "RIGHT JOIN departments ON employees.dept_id = departments.dept_id;\n",
    "'''"
   ]
  },
  {
   "cell_type": "code",
   "execution_count": null,
   "metadata": {},
   "outputs": [],
   "source": [
    "# Full Outer join can be achieved using union\n",
    "fullouterjoin='''\n",
    "SELECT employees.name, departments.dept_name\n",
    "FROM employees\n",
    "LEFT JOIN departments ON employees.dept_id = departments.dept_id\n",
    "UNION\n",
    "SELECT employees.name, departments.dept_name\n",
    "FROM employees\n",
    "RIGHT JOIN departments ON employees.dept_id = departments.dept_id;\n",
    "'''\n"
   ]
  },
  {
   "cell_type": "code",
   "execution_count": null,
   "metadata": {},
   "outputs": [],
   "source": [
    "# Join with filter\n",
    "join_query = \"\"\"\n",
    "SELECT employees.name, departments.dept_name\n",
    "FROM employees\n",
    "INNER JOIN departments ON employees.dept_id = departments.dept_id\n",
    "WHERE departments.dept_name = 'IT'\n",
    "\"\"\"\n"
   ]
  },
  {
   "cell_type": "code",
   "execution_count": null,
   "metadata": {},
   "outputs": [],
   "source": []
  },
  {
   "cell_type": "code",
   "execution_count": null,
   "metadata": {},
   "outputs": [],
   "source": []
  },
  {
   "cell_type": "code",
   "execution_count": null,
   "metadata": {},
   "outputs": [],
   "source": []
  },
  {
   "cell_type": "code",
   "execution_count": null,
   "metadata": {},
   "outputs": [],
   "source": []
  },
  {
   "cell_type": "code",
   "execution_count": null,
   "metadata": {},
   "outputs": [],
   "source": []
  }
 ],
 "metadata": {
  "kernelspec": {
   "display_name": "base",
   "language": "python",
   "name": "python3"
  },
  "language_info": {
   "codemirror_mode": {
    "name": "ipython",
    "version": 3
   },
   "file_extension": ".py",
   "mimetype": "text/x-python",
   "name": "python",
   "nbconvert_exporter": "python",
   "pygments_lexer": "ipython3",
   "version": "3.12.7"
  }
 },
 "nbformat": 4,
 "nbformat_minor": 2
}
