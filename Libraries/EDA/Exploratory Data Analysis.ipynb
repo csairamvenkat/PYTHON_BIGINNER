{
 "cells": [
  {
   "cell_type": "markdown",
   "metadata": {},
   "source": [
    "# EDA is used to understand various aspects of Data\n",
    "# Raw data to clean data is done using EDA techniques\n"
   ]
  },
  {
   "cell_type": "markdown",
   "metadata": {},
   "source": [
    "# EDA Techniques\n",
    "\n",
    "<!-- Variable indentification\n",
    "univariant Analysis\n",
    "Bivariant Analysis\n",
    "Outlier Treatment\n",
    "Missing Value Treatment\n",
    "Imputation\n",
    "Variable Creation -->\n",
    "\n",
    "Raw->Clean->Graphs->Build  ml Model->Test Ml->Deploy"
   ]
  },
  {
   "cell_type": "markdown",
   "metadata": {},
   "source": [
    "# Ml-- Machine Learning ALgorithms\n",
    "Regression--Dependent Variable is continious-->which increases-->Data Points are scattered\n",
    "Algos-->\n",
    "  <!-- Simple Linear\n",
    "  Multiple Linear\n",
    "  Polynomial\n",
    "  Gradient Descent\n",
    "  Lasso (l1)\n",
    "  Lasso (l2) -->\n",
    "Classification--Dpenedent Variable is binary or catgory -->true or false-->Data Points are at 1 or 0\n",
    "<!-- Eg's \n",
    "pass or fail\n",
    "profit or loss\n",
    "win or loss\n",
    "_ve review or -ve review\n",
    " -->\n",
    " Algos-->\n",
    " <!-- \n",
    " Logistic \n",
    " K nearest\n",
    " svm\n",
    " dt\n",
    " rf\n",
    " xgboost\n",
    " lgbm\n",
    " naive base\n",
    " ann classifier\n",
    "  -->\n",
    "\n",
    "Clusturing--no Dependent Variable-->Grouping\n",
    "Algos-->\n",
    "<!-- \n",
    "principal coponent analysis\n",
    "K means cluster\n",
    "hierarchial cluster\n",
    "dbscan cluster\n",
    " -->"
   ]
  },
  {
   "cell_type": "markdown",
   "metadata": {},
   "source": [
    "# Variable Detection\n",
    "Eg: Family--Father,mother house wife and children 1son,1 daughter are studying\n",
    "4 variables\n",
    "\n",
    "ML \n",
    "Mother,son,daughter independent variables=non target or non predective variable--Represented by X\n",
    "Father dependent Variable=predictive or taget variable--Represented by Y\n",
    "In above eg=y=m1x1+m2x2+m3x3+C (Multiple linear regression algorithm)\n"
   ]
  },
  {
   "cell_type": "markdown",
   "metadata": {},
   "source": [
    "# Variable Detection\n",
    "Eg: Family--Father,mother house wife\n",
    "2 variables\n",
    "Mother=non target or non predective variable--Represented by X\n",
    "Father dependent Variable=predictive or taget variable--Represented by Y\n",
    "In above eg. Y=mX+C (simple linear regression algorithm)\n"
   ]
  },
  {
   "cell_type": "markdown",
   "metadata": {},
   "source": [
    "# 1 Variable Identification\n",
    "<!-- Identify Dependent and Independent Variables\n",
    "Build model on Relevant Variables for building models in Machine Learning\n",
    "Ignore Un relevant attributes for building models in Machine Learning -->\n",
    "\n",
    "# 2 Univariant Analysis--Plot graph with 1 variable\n",
    "\n",
    "# 3 Bi variant Analysis--Based on corealation and corelation ranges from -1 to 1        \n",
    " <!-- +ve trend ,linear  coprelation--0 to1 +ve corelation when model built with relevant attribute\n",
    " -ve to 0----ve co relation\n",
    " 0 -- no co relation       \n",
    "-->\n",
    "# 4 Outlier data point far from other data points.Its also called Anomaly detection\n",
    "# 5 Missing Value Treatment\n",
    "<!-- \n",
    "     If numerical data is missing then use mean strategy/median strategy/mode strategy\n",
    "     If Categorical data is missing  then use Mode strategy (mode is calculated based on highest frequency)\n",
    "     Based on nearest neighbour.If nearest neighbour doesnot give clarity then go for next neighbour and so on\n",
    "-->\n",
    "# 6 Imputation (Transformer) and # 7 Varuiable Creation\n",
    "<!-- \n",
    "We create classifier and assign value 1 for same class else 0 .Classifier we created is also called dummy variable \n",
    "Converting Categorical variable  to numerical variable is called transformer/imputation technique\n",
    "1st transformer--Dummy Variable\n",
    "2nd Label encoder\n",
    "3rd one hot encoder-- no. of variables=n-1 classifier\n",
    "-->\n",
    "\n",
    "\n"
   ]
  },
  {
   "cell_type": "markdown",
   "metadata": {},
   "source": []
  },
  {
   "cell_type": "markdown",
   "metadata": {},
   "source": []
  },
  {
   "cell_type": "markdown",
   "metadata": {},
   "source": []
  },
  {
   "cell_type": "markdown",
   "metadata": {},
   "source": []
  },
  {
   "cell_type": "markdown",
   "metadata": {},
   "source": []
  },
  {
   "cell_type": "markdown",
   "metadata": {},
   "source": []
  },
  {
   "cell_type": "markdown",
   "metadata": {},
   "source": []
  },
  {
   "cell_type": "markdown",
   "metadata": {},
   "source": []
  },
  {
   "cell_type": "markdown",
   "metadata": {},
   "source": []
  },
  {
   "cell_type": "markdown",
   "metadata": {},
   "source": []
  },
  {
   "cell_type": "markdown",
   "metadata": {},
   "source": []
  },
  {
   "cell_type": "markdown",
   "metadata": {},
   "source": []
  },
  {
   "cell_type": "markdown",
   "metadata": {},
   "source": []
  },
  {
   "cell_type": "markdown",
   "metadata": {},
   "source": []
  },
  {
   "cell_type": "markdown",
   "metadata": {},
   "source": []
  }
 ],
 "metadata": {
  "kernelspec": {
   "display_name": "base",
   "language": "python",
   "name": "python3"
  },
  "language_info": {
   "name": "python",
   "version": "3.12.7"
  }
 },
 "nbformat": 4,
 "nbformat_minor": 2
}
