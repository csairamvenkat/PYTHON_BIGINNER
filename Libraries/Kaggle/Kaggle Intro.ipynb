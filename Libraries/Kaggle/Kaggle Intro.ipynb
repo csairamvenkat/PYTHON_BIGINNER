{
 "cells": [
  {
   "cell_type": "markdown",
   "metadata": {},
   "source": [
    "# Kaggle is a repository used World wide\n",
    "# Kaggle.com  (good for supervised and unsupervised learning)--dataset + code\n",
    "# uci.com (good for supervised and unsupervised learning)--only dataset\n",
    "# huggingface.com (good for reinforcment llm model and unsupervised learning)--dataset+code for llm model\n",
    "# Live Projects a re called Capstone Project--Projects which will not die ever like banking projects,IMDB projects,Health Care Projects etc.\n",
    "# Y Python instead of Excel -->Excel cant handle more than 10 lakh rows and also has limitation on cols\n"
   ]
  }
 ],
 "metadata": {
  "language_info": {
   "name": "python"
  }
 },
 "nbformat": 4,
 "nbformat_minor": 2
}
